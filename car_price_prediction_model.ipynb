{
 "cells": [
  {
   "cell_type": "markdown",
   "metadata": {},
   "source": [
    "# Prédiction du Prix des Voitures avec Machine Learning\n",
    "\n",
    "Ce notebook contient le code pour le prétraitement des données, l'entraînement d'un modèle de régression linéaire et l'évaluation de ses performances pour la prédiction du prix des voitures d'occasion."
   ]
  },
  {
   "cell_type": "code",
   "execution_count": null,
   "metadata": {},
   "outputs": [],
   "source": [
    "import pandas as pd\n",
    "from sklearn.model_selection import train_test_split\n",
    "from sklearn.linear_model import LinearRegression\n",
    "from sklearn.metrics import r2_score\n",
    "from datetime import datetime\n",
    "import pickle\n",
    "import matplotlib.pyplot as plt\n",
    "import seaborn as sns"
   ]
  },
  {
   "cell_type": "markdown",
   "metadata": {},
   "source": [
    "## 1. Chargement et Exploration des Données"
   ]
  },
  {
   "cell_type": "code",
   "execution_count": null,
   "metadata": {},
   "outputs": [],
   "source": [
    "# Load the dataset\n",
    "file_path = '/home/ubuntu/data/car data.csv'\n",
    "car_data = pd.read_csv(file_path)\n",
    "\n",
    "print(\"Initial Data Head:\")\n",
    "print(car_data.head())\n",
    "print(\"\\nData Info:\")\n",
    "car_data.info()\n",
    "print(\"\\nMissing Values:\")\n",
    "print(car_data.isnull().sum())\n",
    "print(\"\\nData Description:\")\n",
    "print(car_data.describe())"
   ]
  },
  {
   "cell_type": "markdown",
   "metadata": {},
   "source": [
    "## 2. Prétraitement des Données et Ingénierie des Caractéristiques"
   ]
  },
  {
   "cell_type": "code",
   "execution_count": null,
   "metadata": {},
   "outputs": [],
   "source": [
    "# Feature Engineering: Add \u0027Car_Age\u0027 column\n",
    "current_year = datetime.now().year\n",
    "car_data['Car_Age'] = current_year - car_data['Year']\n",
    "\n",
    "# Drop the \u0027Car_Name\u0027 and \u0027Year\u0027 columns (unnecessary for modeling)\n",
    "car_data = car_data.drop(['Car_Name', 'Year'], axis=1)\n",
    "\n",
    "# Encode categorical variables using one-hot encoding\n",
    "car_data_encoded = pd.get_dummies(car_data, columns=['Fuel_Type', 'Selling_type', 'Transmission'], drop_first=True)\n",
    "\n",
    "print(\"\\nProcessed Data Head:\")\n",
    "print(car_data_encoded.head())"
   ]
  },
  {
   "cell_type": "markdown",
   "metadata": {},
   "source": [
    "## 3. Entraînement du Modèle"
   ]
  },
  {
   "cell_type": "code",
   "execution_count": null,
   "metadata": {},
   "outputs": [],
   "source": [
    "# Define features (X) and target (y)\n",
    "X = car_data_encoded.drop('Selling_Price', axis=1)\n",
    "y = car_data_encoded['Selling_Price']\n",
    "\n",
    "# Split the data into training and testing sets\n",
    "X_train, X_test, y_train, y_test = train_test_split(X, y, test_size=0.2, random_state=42)\n",
    "\n",
    "print(f\"\\nTraining data shape: {X_train.shape}\")\n",
    "print(f\"Testing data shape: {X_test.shape}\")\n",
    "\n",
    "# Train the Linear Regression model\n",
    "model = LinearRegression()\n",
    "model.fit(X_train, y_train)"
   ]
  },
  {
   "cell_type": "markdown",
   "metadata": {},
   "source": [
    "## 4. Évaluation du Modèle"
   ]
  },
  {
   "cell_type": "code",
   "execution_count": null,
   "metadata": {},
   "outputs": [],
   "source": [
    "# Make predictions on the test set\n",
    "y_pred = model.predict(X_test)\n",
    "\n",
    "# Evaluate the model\n",
    "r2 = r2_score(y_test, y_pred)\n",
    "print(f\"\\nR2 Score: {r2}\")\n",
    "\n",
    "# Save the trained model\n",
    "with open('car_price_model.pkl', 'wb') as file:\n",
    "    pickle.dump(model, file)\n",
    "\n",
    "print(\"\\nModel saved as car_price_model.pkl\")"
   ]
  },
  {
   "cell_type": "markdown",
   "metadata": {},
   "source": [
    "## 5. Visualisation des Résultats"
   ]
  },
  {
   "cell_type": "code",
   "execution_count": null,
   "metadata": {},
   "outputs": [],
   "source": [
    "plt.figure(figsize=(10, 6))\n",
    "sns.regplot(x=y_test, y=y_pred, scatter_kws={'alpha':0.3})\n",
    "plt.xlabel(\"Prix Réel\")\n",
    "plt.ylabel(\"Prix Prédit\")\n",
    "plt.title(\"Prix Réel vs Prix Prédit\")\n",
    "plt.grid(True)\n",
    "plt.savefig('real_vs_predicted_prices.png')\n",
    "plt.show()"
   ]
  }
 ],
 "metadata": {
  "kernelspec": {
   "display_name": "Python 3",
   "language": "python",
   "name": "python3"
  },
  "language_info": {
   "codemirror_mode": {
    "name": "ipython",
    "version": 3
   },
   "file_extension": ".py",
   "mimetype": "text/x-python",
   "name": "python",
   "nbconvert_exporter": "python",
   "pygments_lexer": "ipython3",
   "version": "3.11.0rc1"
  }
 },
 "nbformat": 4,
 "nbformat_minor": 4
}

