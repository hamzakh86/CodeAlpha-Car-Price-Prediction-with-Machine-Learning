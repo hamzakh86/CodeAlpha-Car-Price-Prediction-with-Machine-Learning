{
 "cells": [
  {
   "cell_type": "markdown",
   "metadata": {},
   "source": [
    "# Car Price Prediction Project Demonstration\n",
    "\n",
    "This notebook serves as documentation and demonstration for the car price prediction project. It explains how the model was built and how to use it for predictions."
   ]
  },
  {
   "cell_type": "markdown",
   "metadata": {},
   "source": [
    "## 1. Introduction\n",
    "\n",
    "The used car market is vast and complex, with prices varying significantly depending on many factors. This project aims to build a machine learning model capable of predicting the selling price of a used car, helping both buyers and sellers estimate the fair value of a vehicle."
   ]
  },
  {
   "cell_type": "markdown",
   "metadata": {},
   "source": [
    "## 2. Project Structure\n",
    "\n",
    "The project is organized as follows:\n",
    "\n",
    "- `car_price_prediction_model.ipynb`: Main notebook containing the code for data preprocessing, linear regression model training, and evaluation.\n",
    "- `car_price_model.pkl`: The trained linear regression model, saved in pickle format.\n",
    "- `car_price_demonstration.ipynb`: This notebook, which provides an overview of the project and examples of model usage.\n",
    "- `data/car data.csv`: The dataset used to train the model.\n",
    "- `README.md`: A text file describing the project and usage instructions.\n",
    "- `requirements.txt`: List of necessary Python dependencies."
   ]
  },
  {
   "cell_type": "markdown",
   "metadata": {},
   "source": [
    "## 3. Using the Model for Predictions\n",
    "\n",
    "The trained model is saved as `car_price_model.pkl`. You can load it and use it to make predictions on new data."
   ]
  },
  {
   "cell_type": "code",
   "execution_count": null,
   "metadata": {},
   "outputs": [],
   "source": [
    "import pandas as pd\n",
    "import pickle\n",
    "from datetime import datetime\n",
    "\n",
    "# Load the trained model\n",
    "model = pickle.load(open(\'car_price_model.pkl\', \'rb\'))\n",
    "\n",
    "def predict_car_price(present_price, driven_kms, fuel_type, selling_type, transmission, owner, year):\n",
    "    \"\"\"\n",
    "    Predict the price of a car based on its characteristics.\n",
    "    \"\"\"\n",
    "    current_year = datetime.now().year\n",
    "    car_age = current_year - year\n",
    "\n",
    "    fuel_type_diesel = False\n",
    "    fuel_type_petrol = False\n",
    "    selling_type_individual = False\n",
    "    transmission_manual = False\n",
    "\n",
    "    if fuel_type == \'Diesel\':\n",
    "        fuel_type_diesel = True\n",
    "    elif fuel_type == \'Petrol\':\n",
    "        fuel_type_petrol = True\n",
    "    \n",
    "    if selling_type == \'Individual\':\n",
    "        selling_type_individual = True\n",
    "\n",
    "    if transmission == \'Manual\':\n",
    "        transmission_manual = True\n",
    "\n",
    "    input_data = pd.DataFrame([[present_price, driven_kms, owner, car_age, fuel_type_diesel, fuel_type_petrol, selling_type_individual, transmission_manual]],\n",
    "                               columns=[\'Present_Price\', \'Driven_kms\', \'Owner\', \'Car_Age\', \'Fuel_Type_Diesel\', \'Fuel_Type_Petrol\', \'Selling_type_Individual\', \'Transmission_Manual\'])\n",
    "\n",
    "    prediction = model.predict(input_data)[0]\n",
    "    return prediction\n",
    "\n",
    "# Example usage\n",
    "predicted_price = predict_car_price(\n",
    "    present_price=8.0,\n",
    "    driven_kms=50000,\n",
    "    fuel_type=\'Petrol\',\n",
    "    selling_type=\'Dealer\',\n",
    "    transmission=\'Manual\',\n",
    "    owner=0,\n",
    "    year=2015\n",
    ")\n",
    "print(f\"The predicted price for the car is: {predicted_price:.2f} lakhs\")"
   ]
  },
  {
   "cell_type": "markdown",
   "metadata": {},
   "source": [
    "## 4. Conclusion\n",
    "\n",
    "This project demonstrates the application of machine learning to solve a real-world price prediction problem. The model can be extended and improved with more data and more advanced feature engineering techniques."
   ]
  }
 ],
 "metadata": {
  "kernelspec": {
   "display_name": "Python 3",
   "language": "python",
   "name": "python3"
  },
  "language_info": {
   "codemirror_mode": {
    "name": "ipython",
    "version": 3
   },
   "file_extension": ".py",
   "mimetype": "text/x-python",
   "name": "python",
   "nbconvert_exporter": "python",
   "pygments_lexer": "ipython3",
   "version": "3.11.0rc1"
  }
 },
 "nbformat": 4,
 "nbformat_minor": 4
}


