{
 "cells": [
  {
   "cell_type": "markdown",
   "metadata": {},
   "source": [
    "# Démonstration du Projet de Prédiction du Prix des Voitures\n",
    "\n",
    "Ce notebook sert de documentation et de démonstration pour le projet de prédiction du prix des voitures. Il explique comment le modèle a été construit et comment l\'utiliser pour faire des prédictions."
   ]
  },
  {
   "cell_type": "markdown",
   "metadata": {},
   "source": [
    "## 1. Introduction\n",
    "\n",
    "Le marché des voitures d\'occasion est vaste et complexe, avec des prix qui varient considérablement en fonction de nombreux facteurs. Ce projet vise à construire un modèle de machine learning capable de prédire le prix de vente d\'une voiture d\'occasion, aidant ainsi les acheteurs et les vendeurs à estimer la juste valeur d\'un véhicule."
   ]
  },
  {
   "cell_type": "markdown",
   "metadata": {},
   "source": [
    "## 2. Structure du Projet\n",
    "\n",
    "Le projet est organisé comme suit :\n",
    "\n",
    "- `car_price_prediction_model.ipynb`: Notebook principal contenant le code pour le prétraitement des données, l\'entraînement du modèle de régression linéaire et son évaluation.\n",
    "- `car_price_model.pkl`: Le modèle de régression linéaire entraîné, sauvegardé au format pickle.\n",
    "- `car_price_demonstration.ipynb`: Ce notebook, qui fournit une vue d\'ensemble du projet et des exemples d\'utilisation du modèle.\n",
    "- `data/car data.csv`: Le jeu de données utilisé pour entraîner le modèle.\n",
    "- `README.md`: Un fichier texte décrivant le projet et les instructions d\'utilisation.\n",
    "- `requirements.txt`: Liste des dépendances Python nécessaires."
   ]
  },
  {
   "cell_type": "markdown",
   "metadata": {},
   "source": [
    "## 3. Utilisation du Modèle pour les Prédictions\n",
    "\n",
    "Le modèle entraîné est sauvegardé sous `car_price_model.pkl`. Vous pouvez le charger et l\'utiliser pour faire des prédictions sur de nouvelles données."
   ]
  },
  {
   "cell_type": "code",
   "execution_count": null,
   "metadata": {},
   "outputs": [],
   "source": [
    "import pandas as pd\n",
    "import pickle\n",
    "from datetime import datetime\n",
    "\n",
    "# Charger le modèle entraîné\n",
    "model = pickle.load(open(\'car_price_model.pkl\', \'rb\'))\n",
    "\n",
    "def predict_car_price(present_price, driven_kms, fuel_type, selling_type, transmission, owner, year):\n",
    "    \"\"\"\n",
    "    Prédire le prix d\'une voiture basé sur ses caractéristiques.\n",
    "    \"\"\"\n",
    "    current_year = datetime.now().year\n",
    "    car_age = current_year - year\n",
    "\n",
    "    fuel_type_diesel = False\n",
    "    fuel_type_petrol = False\n",
    "    selling_type_individual = False\n",
    "    transmission_manual = False\n",
    "\n",
    "    if fuel_type == \'Diesel\':\n",
    "        fuel_type_diesel = True\n",
    "    elif fuel_type == \'Petrol\':\n",
    "        fuel_type_petrol = True\n",
    "    \n",
    "    if selling_type == \'Individual\':\n",
    "        selling_type_individual = True\n",
    "\n",
    "    if transmission == \'Manual\':\n",
    "        transmission_manual = True\n",
    "\n",
    "    input_data = pd.DataFrame([[present_price, driven_kms, owner, car_age, fuel_type_diesel, fuel_type_petrol, selling_type_individual, transmission_manual]],\n",
    "                               columns=[\'Present_Price\', \'Driven_kms\', \'Owner\', \'Car_Age\', \'Fuel_Type_Diesel\', \'Fuel_Type_Petrol\', \'Selling_type_Individual\', \'Transmission_Manual\'])\n",
    "\n",
    "    prediction = model.predict(input_data)[0]\n",
    "    return prediction\n",
    "\n",
    "# Exemple d\'utilisation\n",
    "predicted_price = predict_car_price(\n",
    "    present_price=8.0,\n",
    "    driven_kms=50000,\n",
    "    fuel_type=\'Petrol\',\n",
    "    selling_type=\'Dealer\',\n",
    "    transmission=\'Manual\',\n",
    "    owner=0,\n",
    "    year=2015\n",
    ")\n",
    "print(f\"Le prix prédit pour la voiture est : {predicted_price:.2f} lakhs\")"
   ]
  },
  {
   "cell_type": "markdown",
   "metadata": {},
   "source": [
    "## 4. Conclusion\n",
    "\n",
    "Ce projet démontre l\'application du machine learning pour résoudre un problème de prédiction de prix dans le monde réel. Le modèle peut être étendu et amélioré avec plus de données et des techniques d\'ingénierie de caractéristiques plus avancées."
   ]
  }
 ],
 "metadata": {
  "kernelspec": {
   "display_name": "Python 3",
   "language": "python",
   "name": "python3"
  },
  "language_info": {
   "codemirror_mode": {
    "name": "ipython",
    "version": 3
   },
   "file_extension": ".py",
   "mimetype": "text/x-python",
   "name": "python",
   "nbconvert_exporter": "python",
   "pygments_lexer": "ipython3",
   "version": "3.11.0rc1"
  }
 },
 "nbformat": 4,
 "nbformat_minor": 4
}

